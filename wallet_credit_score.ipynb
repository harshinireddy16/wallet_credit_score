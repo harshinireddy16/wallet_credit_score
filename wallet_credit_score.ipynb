{
 "cells": [
  {
   "cell_type": "code",
   "execution_count": 3,
   "id": "7edb33e6-bae8-4e68-aa55-130aea5de637",
   "metadata": {},
   "outputs": [],
   "source": [
    "\n",
    "import json\n",
    "import zipfile\n",
    "from collections import defaultdict\n",
    "import pandas as pd\n",
    "import numpy as np\n",
    "import matplotlib.pyplot as plt\n",
    "\n"
   ]
  },
  {
   "cell_type": "code",
   "execution_count": 4,
   "id": "0fe51371-a382-4945-a876-b6663398a8ef",
   "metadata": {},
   "outputs": [
    {
     "name": "stdout",
     "output_type": "stream",
     "text": [
      "['.ipynb_checkpoints', 'Readme.txt', 'score_distribution_plot.png', 'Untitled.ipynb', 'user-wallet-transactions.json.zip', 'wallet_credit_score.ipynb', 'wallet_scores.json', 'wallet_scores_classified.csv']\n"
     ]
    }
   ],
   "source": [
    "import os\n",
    "print(os.listdir())\n"
   ]
  },
  {
   "cell_type": "code",
   "execution_count": 5,
   "id": "3bba7210-f352-484a-b420-074c77731e24",
   "metadata": {},
   "outputs": [],
   "source": [
    "from collections import defaultdict\n",
    "import json\n",
    "import zipfile\n",
    "\n",
    "# Scoring weights\n",
    "WEIGHT_DEPOSIT = 0.1\n",
    "WEIGHT_REPAY_RATIO = 300\n",
    "PENALTY_LIQUIDATION = 100\n",
    "BASE_SCORE = 500\n"
   ]
  },
  {
   "cell_type": "code",
   "execution_count": 6,
   "id": "44daf8d0-e698-4e4c-97fc-ca4110f3de9f",
   "metadata": {},
   "outputs": [
    {
     "data": {
      "text/plain": [
       "[{'_id': {'$oid': '681d38fed63812d4655f571a'},\n",
       "  'userWallet': '0x00000000001accfa9cef68cf5371a23025b6d4b6',\n",
       "  'network': 'polygon',\n",
       "  'protocol': 'aave_v2',\n",
       "  'txHash': '0x695c69acf608fbf5d38e48ca5535e118cc213a89e3d6d2e66e6b0e3b2e8d4190',\n",
       "  'logId': '0x695c69acf608fbf5d38e48ca5535e118cc213a89e3d6d2e66e6b0e3b2e8d4190_Deposit',\n",
       "  'timestamp': 1629178166,\n",
       "  'blockNumber': 1629178166,\n",
       "  'action': 'deposit',\n",
       "  'actionData': {'type': 'Deposit',\n",
       "   'amount': '2000000000',\n",
       "   'assetSymbol': 'USDC',\n",
       "   'assetPriceUSD': '0.9938318274296357543568636362026045',\n",
       "   'poolId': '0x2791bca1f2de4661ed88a30c99a7a9449aa84174',\n",
       "   'userId': '0x00000000001accfa9cef68cf5371a23025b6d4b6'},\n",
       "  '__v': 0,\n",
       "  'createdAt': {'$date': '2025-05-08T23:06:39.465Z'},\n",
       "  'updatedAt': {'$date': '2025-05-08T23:06:39.465Z'}},\n",
       " {'_id': {'$oid': '681aa70dd6df53021cc6f3c0'},\n",
       "  'userWallet': '0x000000000051d07a4fb3bd10121a343d85818da6',\n",
       "  'network': 'polygon',\n",
       "  'protocol': 'aave_v2',\n",
       "  'txHash': '0xe6fc162c86b2928b0ba9b82bda672763665152b9de9d92b0e1512a81b1129e3f',\n",
       "  'logId': '0xe6fc162c86b2928b0ba9b82bda672763665152b9de9d92b0e1512a81b1129e3f_Deposit',\n",
       "  'timestamp': 1621525013,\n",
       "  'blockNumber': 1621525013,\n",
       "  'action': 'deposit',\n",
       "  'actionData': {'type': 'Deposit',\n",
       "   'amount': '145000000000000000000',\n",
       "   'assetSymbol': 'WMATIC',\n",
       "   'assetPriceUSD': '1.970306761113742502077627085754506',\n",
       "   'poolId': '0x0d500b1d8e8ef31e21c99d1db9a6444d3adf1270',\n",
       "   'userId': '0x000000000051d07a4fb3bd10121a343d85818da6'},\n",
       "  '__v': 0,\n",
       "  'createdAt': {'$date': '2025-05-07T00:19:26.159Z'},\n",
       "  'updatedAt': {'$date': '2025-05-07T00:19:26.159Z'}}]"
      ]
     },
     "execution_count": 6,
     "metadata": {},
     "output_type": "execute_result"
    }
   ],
   "source": [
    "import zipfile\n",
    "import json\n",
    "\n",
    "zip_path = 'user-wallet-transactions.json.zip'\n",
    "\n",
    "with zipfile.ZipFile(zip_path, 'r') as zip_ref:\n",
    "    file_name = zip_ref.namelist()[0]\n",
    "    with zip_ref.open(file_name) as f:\n",
    "        data = json.load(f)\n",
    "\n",
    "\n",
    "data[:2]\n"
   ]
  },
  {
   "cell_type": "code",
   "execution_count": 7,
   "id": "21345c3b-e21e-49e5-9e0c-20c127a57e75",
   "metadata": {},
   "outputs": [],
   "source": [
    "def load_transactions(zip_path):\n",
    "    with zipfile.ZipFile(zip_path, 'r') as zip_ref:\n",
    "        json_file = [f for f in zip_ref.namelist() if f.endswith('.json')][0]\n",
    "        with zip_ref.open(json_file) as f:\n",
    "            data = json.load(f)\n",
    "    return data\n",
    "\n",
    "\n",
    "def compute_features(data):\n",
    "    wallets = defaultdict(lambda: defaultdict(float))\n",
    "    for tx in data:\n",
    "        wallet = tx['userWallet']\n",
    "        action = tx['action'].lower()\n",
    "        amount = float(tx.get('actionData', {}).get('amount', 0))\n",
    "\n",
    "        if action in ['deposit', 'borrow', 'repay', 'redeemunderlying', 'liquidationcall']:\n",
    "            wallets[wallet][action] += amount\n",
    "            wallets[wallet]['total_txns'] += 1\n",
    "\n",
    "    return wallets\n",
    "\n",
    "\n",
    "def compute_scores(wallet_features):\n",
    "    scores = {}\n",
    "    for wallet, feats in wallet_features.items():\n",
    "        deposit = feats.get('deposit', 0)\n",
    "        borrow = feats.get('borrow', 0)\n",
    "        repay = feats.get('repay', 0)\n",
    "        liquidate = feats.get('liquidationcall', 0)\n",
    "        txns = feats.get('total_txns', 1)\n",
    "\n",
    "        score = 600 + 0.000001 * deposit - 0.000002 * borrow + 0.000002 * repay - 0.000005 * liquidate\n",
    "        score += 10 * (repay / txns)\n",
    "        score = max(0, min(1000, int(score)))\n",
    "        scores[wallet] = score\n",
    "    return scores\n",
    "\n",
    "\n",
    "def classify_risk(score):\n",
    "    if score >= 750:\n",
    "        return 'Safe'\n",
    "    elif score >= 500:\n",
    "        return 'Moderate'\n",
    "    else:\n",
    "        return 'Risky'\n",
    "\n",
    "\n",
    "def save_results(scores, output_json='wallet_scores.json', output_csv='wallet_scores_classified.csv'):\n",
    "    with open(output_json, 'w') as f:\n",
    "        json.dump(scores, f, indent=2)\n",
    "\n",
    "    df = pd.DataFrame(list(scores.items()), columns=['Wallet', 'Score'])\n",
    "    df['Risk'] = df['Score'].apply(classify_risk)\n",
    "    df.to_csv(output_csv, index=False)\n",
    "    print(f\"RESULTS SAVED TO {output_json} and {output_csv}\")\n",
    "\n",
    "\n",
    "def plot_histogram(scores):\n",
    "    plt.hist(scores.values(), bins=20, edgecolor='black')\n",
    "    plt.title(\"Wallet Credit Score Distribution\")\n",
    "    plt.xlabel(\"Score\")\n",
    "    plt.ylabel(\"Number of Wallets\")\n",
    "    plt.grid(True)\n",
    "    plt.show()\n"
   ]
  },
  {
   "cell_type": "code",
   "execution_count": 8,
   "id": "0a2853b4-df9d-442f-bed8-20c9b9838ba1",
   "metadata": {},
   "outputs": [
    {
     "name": "stdout",
     "output_type": "stream",
     "text": [
      "Total transactions parsed: 100000\n",
      "Total unique wallets: 3497\n",
      "RESULTS SAVED TO wallet_scores.json and wallet_scores_classified.csv\n"
     ]
    },
    {
     "data": {
      "image/png": "[encoded data removed]",
      "text/plain": [
       "<Figure size 640x480 with 1 Axes>"
      ]
     },
     "metadata": {},
     "output_type": "display_data"
    },
    {
     "name": "stdout",
     "output_type": "stream",
     "text": [
      "\n",
      " Sample Wallet Scores:\n",
      "0x00000000001accfa9cef68cf5371a23025b6d4b6: 1000\n",
      "0x000000000051d07a4fb3bd10121a343d85818da6: 1000\n",
      "0x000000000096026fb41fc39f9875d164bd82e2dc: 1000\n",
      "0x0000000000e189dd664b9ab08a33c4839953852c: 600\n",
      "0x0000000002032370b971dabd36d72f3e5a7bf1ee: 1000\n",
      "0x000000000a38444e0a6e37d3b630d7e855a7cb13: 1000\n",
      "0x000000003853fcedcd0355fec98ca3192833f00b: 1000\n",
      "0x000000003ce0cf2c037493b1dc087204bd7f713e: 1000\n",
      "0x000000007858e6f2668e1e06111cfa24403a5466: 1000\n",
      "0x00000001a0f57e850c9db68b4a9bc34677437c5c: 601\n"
     ]
    }
   ],
   "source": [
    "\n",
    "zip_path = 'user-wallet-transactions.json.zip'\n",
    "\n",
    "data = load_transactions(zip_path)\n",
    "print(f\"Total transactions parsed: {len(data)}\")\n",
    "\n",
    "wallet_features = compute_features(data)\n",
    "print(f\"Total unique wallets: {len(wallet_features)}\")\n",
    "\n",
    "scores = compute_scores(wallet_features)\n",
    "\n",
    "save_results(scores)\n",
    "\n",
    "plot_histogram(scores)\n",
    "\n",
    "\n",
    "print(\"\\n Sample Wallet Scores:\")\n",
    "for wallet in list(scores.keys())[:10]:\n",
    "    print(f\"{wallet}: {scores[wallet]}\")\n"
   ]
  },
  {
   "cell_type": "code",
   "execution_count": 9,
   "id": "df2682fa-9427-4c80-a041-c7af76509d20",
   "metadata": {},
   "outputs": [],
   "source": [
    "def load_transactions(zip_path):\n",
    "    with zipfile.ZipFile(zip_path, 'r') as zip_ref:\n",
    "        json_name = zip_ref.namelist()[0]\n",
    "        with zip_ref.open(json_name) as f:\n",
    "            data = json.load(f)\n",
    "    return data\n"
   ]
  },
  {
   "cell_type": "code",
   "execution_count": 10,
   "id": "9da609b2-1bff-485c-b301-c85f741d3497",
   "metadata": {},
   "outputs": [],
   "source": [
    "def compute_features(data):\n",
    "    wallets = defaultdict(lambda: defaultdict(float))\n",
    "    for tx in data:\n",
    "        wallet = tx['userWallet']\n",
    "        action = tx['action'].lower()\n",
    "        \n",
    "        amount_str = tx.get('actionData', {}).get('amount', '0')\n",
    "        try:\n",
    "            amount = float(amount_str)\n",
    "        except ValueError:\n",
    "            amount = 0\n",
    "\n",
    "        if action == 'deposit':\n",
    "            wallets[wallet]['total_deposit'] += amount\n",
    "            wallets[wallet]['num_deposit'] += 1\n",
    "\n",
    "        elif action == 'borrow':\n",
    "            wallets[wallet]['total_borrow'] += amount\n",
    "            wallets[wallet]['num_borrow'] += 1\n",
    "\n",
    "        elif action == 'repay':\n",
    "            wallets[wallet]['total_repay'] += amount\n",
    "            wallets[wallet]['num_repay'] += 1\n",
    "\n",
    "        elif action == 'liquidationcall':\n",
    "            wallets[wallet]['num_liquidation'] += 1\n",
    "    return wallets\n"
   ]
  },
  {
   "cell_type": "code",
   "execution_count": 11,
   "id": "c5ed2a5c-3d60-4a9c-a9ea-ea791f7a9f18",
   "metadata": {},
   "outputs": [],
   "source": [
    "def compute_scores(wallet_features):\n",
    "    scores = {}\n",
    "    for wallet, feats in wallet_features.items():\n",
    "        deposit = feats['total_deposit']\n",
    "        repay_ratio = feats['num_repay'] / feats['num_borrow'] if feats['num_borrow'] else 0\n",
    "        liquidations = feats['num_liquidation']\n",
    "\n",
    "        score = BASE_SCORE\n",
    "        score += WEIGHT_DEPOSIT * deposit\n",
    "        score += WEIGHT_REPAY_RATIO * repay_ratio\n",
    "        score -= PENALTY_LIQUIDATION * liquidations\n",
    "\n",
    "        scores[wallet] = max(0, min(1000, round(score)))\n",
    "    return scores\n"
   ]
  },
  {
   "cell_type": "code",
   "execution_count": 12,
   "id": "06c5cb74-cc78-4090-b403-c06ebe840be8",
   "metadata": {},
   "outputs": [
    {
     "name": "stdout",
     "output_type": "stream",
     "text": [
      "{'_id': {'$oid': '681d38fed63812d4655f571a'}, 'userWallet': '0x00000000001accfa9cef68cf5371a23025b6d4b6', 'network': 'polygon', 'protocol': 'aave_v2', 'txHash': '0x695c69acf608fbf5d38e48ca5535e118cc213a89e3d6d2e66e6b0e3b2e8d4190', 'logId': '0x695c69acf608fbf5d38e48ca5535e118cc213a89e3d6d2e66e6b0e3b2e8d4190_Deposit', 'timestamp': 1629178166, 'blockNumber': 1629178166, 'action': 'deposit', 'actionData': {'type': 'Deposit', 'amount': '2000000000', 'assetSymbol': 'USDC', 'assetPriceUSD': '0.9938318274296357543568636362026045', 'poolId': '0x2791bca1f2de4661ed88a30c99a7a9449aa84174', 'userId': '0x00000000001accfa9cef68cf5371a23025b6d4b6'}, '__v': 0, 'createdAt': {'$date': '2025-05-08T23:06:39.465Z'}, 'updatedAt': {'$date': '2025-05-08T23:06:39.465Z'}}\n"
     ]
    }
   ],
   "source": [
    "print(data[0])\n"
   ]
  },
  {
   "cell_type": "code",
   "execution_count": 13,
   "id": "a4f5284e-e3d1-49d1-8522-0f20afeb3c8f",
   "metadata": {},
   "outputs": [
    {
     "name": "stdout",
     "output_type": "stream",
     "text": [
      "3497 wallets scored.\n"
     ]
    }
   ],
   "source": [
    "import json\n",
    "with open('wallet_scores.json') as f:\n",
    "    results = json.load(f)\n",
    "print(len(results), \"wallets scored.\")\n"
   ]
  },
  {
   "cell_type": "code",
   "execution_count": 14,
   "id": "41cea33a-143d-426f-afc7-ca6e5ad0c8c2",
   "metadata": {},
   "outputs": [
    {
     "name": "stdout",
     "output_type": "stream",
     "text": [
      " Total wallets scored: 3497\n"
     ]
    }
   ],
   "source": [
    "with open('wallet_scores.json') as f:\n",
    "    results = json.load(f)\n",
    "\n",
    "print(f\" Total wallets scored: {len(results)}\")\n"
   ]
  },
  {
   "cell_type": "code",
   "execution_count": 15,
   "id": "bc291121-aa6c-4f28-b873-94990411aab1",
   "metadata": {},
   "outputs": [],
   "source": [
    "def classify_wallet(score):\n",
    "    if score >= 800:\n",
    "        return 'Safe'\n",
    "    elif score >= 500:\n",
    "        return 'Moderate'\n",
    "    else:\n",
    "        return 'Risky'\n"
   ]
  },
  {
   "cell_type": "code",
   "execution_count": 16,
   "id": "1e2b9786-df2b-488a-a3f3-af13774e5531",
   "metadata": {},
   "outputs": [
    {
     "name": "stdout",
     "output_type": "stream",
     "text": [
      " Exported with classifications to wallet_scores_classified.csv\n"
     ]
    }
   ],
   "source": [
    "import csv\n",
    "\n",
    "with open('wallet_scores_classified.csv', 'w', newline='') as csvfile:\n",
    "    writer = csv.writer(csvfile)\n",
    "    writer.writerow(['wallet', 'score', 'risk_level'])\n",
    "    for wallet, score in results.items():\n",
    "        label = classify_wallet(score)\n",
    "        writer.writerow([wallet, score, label])\n",
    "\n",
    "print(\" Exported with classifications to wallet_scores_classified.csv\")\n"
   ]
  },
  {
   "cell_type": "code",
   "execution_count": 17,
   "id": "e316e736-c147-4bf3-82d8-1059b784e518",
   "metadata": {},
   "outputs": [
    {
     "name": "stdout",
     "output_type": "stream",
     "text": [
      "Requirement already satisfied: matplotlib in c:\\users\\harshini\\appdata\\local\\programs\\python\\python312\\lib\\site-packages (3.9.2)\n",
      "Requirement already satisfied: contourpy>=1.0.1 in c:\\users\\harshini\\appdata\\local\\programs\\python\\python312\\lib\\site-packages (from matplotlib) (1.3.0)\n",
      "Requirement already satisfied: cycler>=0.10 in c:\\users\\harshini\\appdata\\local\\programs\\python\\python312\\lib\\site-packages (from matplotlib) (0.12.1)\n",
      "Requirement already satisfied: fonttools>=4.22.0 in c:\\users\\harshini\\appdata\\local\\programs\\python\\python312\\lib\\site-packages (from matplotlib) (4.54.1)\n",
      "Requirement already satisfied: kiwisolver>=1.3.1 in c:\\users\\harshini\\appdata\\local\\programs\\python\\python312\\lib\\site-packages (from matplotlib) (1.4.7)\n",
      "Requirement already satisfied: numpy>=1.23 in c:\\users\\harshini\\appdata\\local\\programs\\python\\python312\\lib\\site-packages (from matplotlib) (2.1.1)\n",
      "Requirement already satisfied: packaging>=20.0 in c:\\users\\harshini\\appdata\\local\\programs\\python\\python312\\lib\\site-packages (from matplotlib) (24.1)\n",
      "Requirement already satisfied: pillow>=8 in c:\\users\\harshini\\appdata\\local\\programs\\python\\python312\\lib\\site-packages (from matplotlib) (10.4.0)\n",
      "Requirement already satisfied: pyparsing>=2.3.1 in c:\\users\\harshini\\appdata\\local\\programs\\python\\python312\\lib\\site-packages (from matplotlib) (3.1.4)\n",
      "Requirement already satisfied: python-dateutil>=2.7 in c:\\users\\harshini\\appdata\\local\\programs\\python\\python312\\lib\\site-packages (from matplotlib) (2.9.0.post0)\n",
      "Requirement already satisfied: six>=1.5 in c:\\users\\harshini\\appdata\\local\\programs\\python\\python312\\lib\\site-packages (from python-dateutil>=2.7->matplotlib) (1.16.0)\n",
      "Note: you may need to restart the kernel to use updated packages.\n"
     ]
    },
    {
     "name": "stderr",
     "output_type": "stream",
     "text": [
      "\n",
      "[notice] A new release of pip is available: 25.0.1 -> 25.1.1\n",
      "[notice] To update, run: python.exe -m pip install --upgrade pip\n"
     ]
    }
   ],
   "source": [
    "pip install matplotlib"
   ]
  },
  {
   "cell_type": "code",
   "execution_count": 74,
   "id": "1955f228-0b0f-4016-932e-3b1cd55acb20",
   "metadata": {},
   "outputs": [
    {
     "name": "stdout",
     "output_type": "stream",
     "text": [
      "Total transactions parsed: 100000\n",
      "Total unique wallets: 3497\n"
     ]
    }
   ],
   "source": [
    "print(f\"Total transactions parsed: {len(data)}\")\n",
    "print(f\"Total unique wallets: {len(wallet_features)}\")\n"
   ]
  },
  {
   "cell_type": "code",
   "execution_count": 24,
   "id": "877a56d3-1583-4090-bcdc-26e099012e26",
   "metadata": {},
   "outputs": [
    {
     "name": "stdout",
     "output_type": "stream",
     "text": [
      "['wallet', 'score', 'risk_level']\n"
     ]
    }
   ],
   "source": [
    "import pandas as pd\n",
    "\n",
    "df = pd.read_csv(\"wallet_scores_classified.csv\")\n",
    "print(df.columns.tolist())\n",
    "\n",
    "\n",
    "\n",
    "\n"
   ]
  },
  {
   "cell_type": "code",
   "execution_count": 26,
   "id": "73305304-093e-48e2-b705-6e51faaad893",
   "metadata": {},
   "outputs": [
    {
     "data": {
      "image/png": "[encoded data removed]",
      "text/plain": [
       "<Figure size 1000x600 with 1 Axes>"
      ]
     },
     "metadata": {},
     "output_type": "display_data"
    }
   ],
   "source": [
    "import pandas as pd\n",
    "import matplotlib.pyplot as plt\n",
    "\n",
    "\n",
    "df = pd.read_csv(\"wallet_scores_classified.csv\")\n",
    "\n",
    "\n",
    "df['Bucket'] = pd.cut(df['score'], bins=[0,100,200,300,400,500,600,700,800,900,1000])\n",
    "\n",
    "bucket_counts = df['Bucket'].value_counts().sort_index()\n",
    "\n",
    "plt.figure(figsize=(10, 6))\n",
    "bucket_counts.plot(kind='bar', color='royalblue', edgecolor='black')\n",
    "plt.title(\"Wallet Credit Score Distribution\")\n",
    "plt.xlabel(\"Score Ranges\")\n",
    "plt.ylabel(\"Number of Wallets\")\n",
    "plt.xticks(rotation=45)\n",
    "plt.grid(axis='y', linestyle='--', alpha=0.7)\n",
    "plt.tight_layout()\n",
    "plt.savefig(\"score_distribution.png\")\n",
    "plt.show()\n"
   ]
  },
  {
   "cell_type": "code",
   "execution_count": null,
   "id": "ccb0ffc7-e2a6-46dd-8ff6-1428d89bcde9",
   "metadata": {},
   "outputs": [],
   "source": []
  }
 ],
 "metadata": {
  "kernelspec": {
   "display_name": "Python 3 (ipykernel)",
   "language": "python",
   "name": "python3"
  },
  "language_info": {
   "codemirror_mode": {
    "name": "ipython",
    "version": 3
   },
   "file_extension": ".py",
   "mimetype": "text/x-python",
   "name": "python",
   "nbconvert_exporter": "python",
   "pygments_lexer": "ipython3",
   "version": "3.12.6"
  }
 },
 "nbformat": 4,
 "nbformat_minor": 5
}
